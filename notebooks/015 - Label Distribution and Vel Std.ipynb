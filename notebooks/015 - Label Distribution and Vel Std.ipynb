{
 "cells": [
  {
   "attachments": {},
   "cell_type": "markdown",
   "metadata": {},
   "source": [
    "# Plot Label Distribution\n",
    "- Bin velocity targets for 32 and 512 case for RoNIN"
   ]
  },
  {
   "cell_type": "code",
   "execution_count": 1,
   "metadata": {},
   "outputs": [],
   "source": [
    "import numpy as np\n",
    "import matplotlib.pyplot as plt\n",
    "import pandas as pd\n",
    "import torch\n",
    "import json\n",
    "from pathlib import Path\n",
    "\n",
    "rng = np.random.default_rng()"
   ]
  },
  {
   "cell_type": "code",
   "execution_count": 2,
   "metadata": {},
   "outputs": [],
   "source": [
    "class SmartwatchDataset(torch.utils.data.Dataset):\n",
    "    def __init__(self, valid_files, sample_period=0.02):\n",
    "        \"\"\"\n",
    "        Parameters:\n",
    "        -----------\n",
    "        valid_files: list of filepaths to normalized data\n",
    "        \"\"\"\n",
    "        super().__init__()\n",
    "        self.data = []\n",
    "        for file in valid_files:\n",
    "            df = pd.read_csv(file)\n",
    "            # Resample the data if needed\n",
    "            df.index = pd.to_timedelta(df[\"time\"], unit=\"seconds\")\n",
    "            df = df.drop(\"time\", axis=1)\n",
    "            df = df.resample(f\"{sample_period}S\").mean()\n",
    "            self.data.append(df.values)\n",
    "\n",
    "    def __len__(self):\n",
    "        return len(self.data)\n",
    "\n",
    "    def __getitem__(self, index):\n",
    "        \"\"\"Returns tuple of (imu, mocap) at index\"\"\"\n",
    "        item = self.data[index]\n",
    "        imu = item[:, 7:]  # IMU sensor data [accel, mag, gyro]\n",
    "        mocap = item[:, 0:7]  # Mocap data [pos]\n",
    "        return imu, mocap\n",
    "\n",
    "\n",
    "class SmartwatchAugmentRonin:\n",
    "    \"\"\"\n",
    "    Collate function to apply random augmentations to the data\n",
    "        - Randomly perturb the mocap positions\n",
    "        - Randomly flip sign of mocap quaternion\n",
    "        - Add random noise to IMU channels\n",
    "        - Random crop to the signal (if possible)\n",
    "        - Generate a velocity over the window of sequence data\n",
    "    \"\"\"\n",
    "    def __init__(self, position_noise=0.2, accel_eps=0.1, gyro_eps=0.1, mag_eps=0.1, max_input_samples=512, downsample_output_seq=1, augment=True):\n",
    "        \"\"\"\n",
    "        Parameters:\n",
    "        -----------\n",
    "        position_noise: float, limits on uniform distribution [-p, p] to add position offset to mocap\n",
    "        accel_eps: float, standard deviation on Gaussian noise added to accelerometer channels\n",
    "        gyro_eps: float, standard deviation on Gaussian noise added to gyroscope channels\n",
    "        mag_eps: float, standard deviation on Gaussian noise added to mangetometer channels\n",
    "        max_input_samples: int, maximum number of input samples\n",
    "        downsample_output_seq: int, factor to downsample output sequence\n",
    "        augment: bool, perform augmentations to data\n",
    "        \"\"\"\n",
    "        self.position_noise = position_noise\n",
    "        self.accel_eps = accel_eps\n",
    "        self.gyro_eps = gyro_eps\n",
    "        self.mag_eps = mag_eps\n",
    "        self.max_input_samples = max_input_samples\n",
    "        self.downsample_output_seq = downsample_output_seq\n",
    "        self.augment = augment\n",
    "\n",
    "    def _random_crop(self, imu, mocap):\n",
    "        \"\"\"\n",
    "        Apply a random crop of the signal of length self.max_input_samples to both inputs and labels, if able to\n",
    "        Due to targets being a shifted version of decoder inputs, we need to account for one extra timepoint (after downsampling)\n",
    "        \"\"\"\n",
    "        n, d = imu.shape\n",
    "        ds = self.downsample_output_seq\n",
    "        max_len = self.max_input_samples + ds\n",
    "        # max_len = self.max_input_samples\n",
    "        max_offset = n - max_len\n",
    "\n",
    "        if max_offset > 0:\n",
    "            offset = rng.choice(max_offset)\n",
    "            input_inds = slice(offset, offset + self.max_input_samples)\n",
    "            output_inds = slice(offset, offset + max_len)\n",
    "            imu, mocap = imu[input_inds, :], mocap[output_inds, :]\n",
    "        else:\n",
    "            cutoff = ds if n % ds == 0 else n % ds\n",
    "            input_inds = slice(0, n - cutoff)\n",
    "            imu = imu[input_inds, :]\n",
    "        if self.downsample_output_seq > 1:\n",
    "            mocap = mocap[::self.downsample_output_seq, :]\n",
    "        return imu, mocap\n",
    "\n",
    "    def __call__(self, data):\n",
    "        \"\"\"\n",
    "        Parameters:\n",
    "        -----------\n",
    "        data: list of tuple of (imu, mocap) of length batch_size\n",
    "            imu: np.ndarray, dimensions (n_samples, 9), signal data for IMU accel, gyro, and mag\n",
    "            mocap: np.ndarray, dimensions (n_samples, 7), position and quaternion data from mocap\n",
    "\n",
    "        Returns:\n",
    "        --------\n",
    "        collated_data: dict of tensords with keys [\"inputs\", \"targets\"]\n",
    "        \"\"\"\n",
    "        inputs = []\n",
    "        targets = []\n",
    "\n",
    "        \n",
    "        for (imu, mocap) in data:\n",
    "            imu, mocap = self._random_crop(imu, mocap[:, :3])\n",
    "\n",
    "            n_in, d_in = imu.shape\n",
    "            n_out, d_out = mocap.shape\n",
    "            assert np.ceil(n_in / self.downsample_output_seq) + 1 == n_out, f\"Downsamping failed, n_in={n_in}; n_out={n_out}\"\n",
    "            assert d_in == 9, f\"IMU data has dimensionality {d_in} instead of 9\"\n",
    "            assert d_out == 3, f\"Mocap data has dimensionality {d_out} instead of 73\"\n",
    "\n",
    "            if self.augment:\n",
    "                # Augment XYZ positions\n",
    "                offset = rng.uniform(-self.position_noise, self.position_noise, size=(1, 3))\n",
    "                mocap[:, 0:3] += offset\n",
    "                # # Augment quaternion sign\n",
    "                # sign = rng.choice([-1, 1])\n",
    "                # mocap[:, 4:] *= sign\n",
    "\n",
    "                accel_noise = rng.normal(loc=0, scale=self.accel_eps, size=(n_in, 3))\n",
    "                gyro_noise = rng.normal(loc=0, scale=self.gyro_eps, size=(n_in, 3))\n",
    "                mag_noise = rng.normal(loc=0, scale=self.mag_eps, size=(n_in, 3))\n",
    "\n",
    "                noise = np.hstack([accel_noise, gyro_noise, mag_noise])\n",
    "                imu += noise\n",
    "\n",
    "            # Ensure targets are one timestep shifted wrt inputs\n",
    "            inputs.append(torch.FloatTensor(imu))\n",
    "            # targets.append(torch.FloatTensor(mocap[1:, :]))\n",
    "            targets.append(torch.FloatTensor(mocap))\n",
    "\n",
    "        lengths = [len(item) for item in inputs]\n",
    "        inds = np.flip(np.argsort(lengths)).copy()  # PackedSequence expects lengths from longest to shortest\n",
    "        lengths = torch.LongTensor(lengths)[inds]\n",
    "\n",
    "        # # Sort by lengths\n",
    "        # encoder_inputs = [encoder_inputs[i] for i in inds]\n",
    "        # decoder_inputs = [decoder_inputs[i] for i in inds]\n",
    "        # targets = [targets[i] for i in inds]\n",
    "\n",
    "        # encoder_inputs = torch.nn.utils.rnn.pack_sequence(encoder_inputs)\n",
    "        # decoder_inputs = torch.nn.utils.rnn.pack_sequence(decoder_inputs)\n",
    "        # targets = torch.nn.utils.rnn.pack_sequence(targets)\n",
    "\n",
    "        inputs = torch.stack(inputs).permute(0, 2, 1)\n",
    "        targets = torch.stack(targets).permute(0, 2, 1)\n",
    "        # targets = targets[:, :, -1]\n",
    "\n",
    "        batches, channels, elements = targets.shape\n",
    "        vel_targets = (targets[:,:,-1] - targets[:,:,0]) / (0.02*elements)\n",
    "\n",
    "        collated_data = {\n",
    "            \"inputs\": inputs,\n",
    "            \"targets\": vel_targets,\n",
    "            \"pos_targets\": targets\n",
    "        }\n",
    "        return collated_data\n"
   ]
  },
  {
   "cell_type": "code",
   "execution_count": 3,
   "metadata": {},
   "outputs": [],
   "source": [
    "data_json = Path(\"D:\\\\Jonathan\\\\3-Datasets\\\\syde770_processed_data\\\\subjects_2023-07-12\\\\data.json\")\n",
    "\n",
    "with data_json.open('r') as f:\n",
    "        valid_files = json.loads(f.read())\n",
    "f.close()\n",
    "train_files = valid_files['train']\n",
    "val_files = valid_files['val']\n",
    "test_files = valid_files['test']"
   ]
  },
  {
   "attachments": {},
   "cell_type": "markdown",
   "metadata": {},
   "source": [
    "## 32 Sequence Length"
   ]
  },
  {
   "cell_type": "code",
   "execution_count": 4,
   "metadata": {},
   "outputs": [],
   "source": [
    "collate_fn = SmartwatchAugmentRonin(max_input_samples=32)\n",
    "test_collate_fn = SmartwatchAugmentRonin(max_input_samples=32, augment=False)\n",
    "\n",
    "train_dataset = SmartwatchDataset(train_files, 0.04)\n",
    "train_loader = torch.utils.data.DataLoader(train_dataset, batch_size=128, collate_fn=collate_fn, drop_last=True, shuffle=False)\n",
    "\n",
    "val_dataset = SmartwatchDataset(val_files, 0.04)\n",
    "val_loader = torch.utils.data.DataLoader(val_dataset, batch_size=128, collate_fn=collate_fn, drop_last=True, shuffle=False)\n",
    "\n",
    "test_dataset = SmartwatchDataset(test_files, 0.04)\n",
    "test_loader = torch.utils.data.DataLoader(test_dataset, batch_size=128, collate_fn=test_collate_fn, drop_last=True, shuffle=False)"
   ]
  },
  {
   "cell_type": "code",
   "execution_count": 5,
   "metadata": {},
   "outputs": [],
   "source": [
    "def plot_hist(title, x_data, y_data, z_data):\n",
    "    fig, axes = plt.subplots(1, 3, figsize=(20,8), tight_layout=True)\n",
    "    axes[0].hist(x_data, bins=20)\n",
    "    axes[1].hist(y_data, bins=20)\n",
    "    axes[2].hist(z_data, bins=20)\n",
    "    fig.suptitle(title)\n",
    "    plt.show()"
   ]
  },
  {
   "cell_type": "code",
   "execution_count": 6,
   "metadata": {},
   "outputs": [],
   "source": [
    "x, y, z = [], [], []\n",
    "for step, data in enumerate(train_loader):\n",
    "    targets = data['targets']\n",
    "    x.append(targets[:, 0].numpy())\n",
    "    y.append(targets[:, 1].numpy())\n",
    "    z.append(targets[:, 2].numpy())\n",
    "             \n",
    "x = np.concatenate(np.array(x), axis=0)\n",
    "y = np.concatenate(np.array(y), axis=0)\n",
    "z = np.concatenate(np.array(z), axis=0)"
   ]
  },
  {
   "cell_type": "code",
   "execution_count": 7,
   "metadata": {},
   "outputs": [
    {
     "data": {
      "image/png": "[encoded data removed]",
      "text/plain": [
       "<Figure size 2000x800 with 3 Axes>"
      ]
     },
     "metadata": {},
     "output_type": "display_data"
    }
   ],
   "source": [
    "plot_hist('32 Sequence', x, y, z)"
   ]
  },
  {
   "attachments": {},
   "cell_type": "markdown",
   "metadata": {},
   "source": [
    "32 sequence has a much larger range of X, Y, and Z velocity values\n",
    "- Probably why RoNIN cannot predict the velocity well"
   ]
  },
  {
   "attachments": {},
   "cell_type": "markdown",
   "metadata": {},
   "source": [
    "## 512 Sequence Length"
   ]
  },
  {
   "cell_type": "code",
   "execution_count": 8,
   "metadata": {},
   "outputs": [],
   "source": [
    "collate_fn = SmartwatchAugmentRonin(max_input_samples=512)\n",
    "test_collate_fn = SmartwatchAugmentRonin(max_input_samples=512, augment=False)\n",
    "\n",
    "train_dataset = SmartwatchDataset(train_files, 0.04)\n",
    "train_loader = torch.utils.data.DataLoader(train_dataset, batch_size=128, collate_fn=collate_fn, drop_last=True, shuffle=False)\n",
    "\n",
    "val_dataset = SmartwatchDataset(val_files, 0.04)\n",
    "val_loader = torch.utils.data.DataLoader(val_dataset, batch_size=128, collate_fn=collate_fn, drop_last=True, shuffle=False)\n",
    "\n",
    "test_dataset = SmartwatchDataset(test_files, 0.04)\n",
    "test_loader = torch.utils.data.DataLoader(test_dataset, batch_size=128, collate_fn=test_collate_fn, drop_last=True, shuffle=False)"
   ]
  },
  {
   "cell_type": "code",
   "execution_count": 9,
   "metadata": {},
   "outputs": [
    {
     "data": {
      "image/png": "[encoded data removed]",
      "text/plain": [
       "<Figure size 2000x800 with 3 Axes>"
      ]
     },
     "metadata": {},
     "output_type": "display_data"
    }
   ],
   "source": [
    "x, y, z = [], [], []\n",
    "for step, data in enumerate(train_loader):\n",
    "    targets = data['targets']\n",
    "    x.append(targets[:, 0].numpy())\n",
    "    y.append(targets[:, 1].numpy())\n",
    "    z.append(targets[:, 2].numpy())\n",
    "             \n",
    "x = np.concatenate(np.array(x), axis=0)\n",
    "y = np.concatenate(np.array(y), axis=0)\n",
    "z = np.concatenate(np.array(z), axis=0)\n",
    "\n",
    "plot_hist('512 Sequence', x, y, z)"
   ]
  },
  {
   "attachments": {},
   "cell_type": "markdown",
   "metadata": {},
   "source": [
    "512 sequence has much smaller range of X, Y, Z velocity values\n",
    "- Within a 'normalized' spread"
   ]
  },
  {
   "attachments": {},
   "cell_type": "markdown",
   "metadata": {},
   "source": [
    "# Determine Global Velocity Standard Deviation\n",
    "- load json for valid files\n",
    "- run dataset and collate function \n",
    "- return targets and append to list\n",
    "- calculate std on target data\n",
    "    - does batch size affect the std? - yes\n",
    "    - will random crop affect std?\n"
   ]
  },
  {
   "cell_type": "code",
   "execution_count": 1,
   "metadata": {},
   "outputs": [],
   "source": [
    "import numpy as np\n",
    "import matplotlib.pyplot as plt\n",
    "import pandas as pd\n",
    "import torch\n",
    "import json\n",
    "from pathlib import Path\n",
    "\n",
    "rng = np.random.default_rng()\n",
    "\n",
    "data_json = Path(\"D:\\\\Jonathan\\\\3-Datasets\\\\syde770_processed_data\\\\subjects_2023-07-12\\\\data.json\")\n",
    "\n",
    "with data_json.open('r') as f:\n",
    "        valid_files = json.loads(f.read())\n",
    "f.close()\n",
    "train_files = valid_files['train']\n",
    "val_files = valid_files['val']\n",
    "test_files = valid_files['test']"
   ]
  },
  {
   "cell_type": "code",
   "execution_count": 2,
   "metadata": {},
   "outputs": [],
   "source": [
    "class SmartwatchDataset(torch.utils.data.Dataset):\n",
    "    def __init__(self, valid_files, sample_period=0.02):\n",
    "        \"\"\"\n",
    "        Parameters:\n",
    "        -----------\n",
    "        valid_files: list of filepaths to normalized data\n",
    "        \"\"\"\n",
    "        super().__init__()\n",
    "        self.data = []\n",
    "        for file in valid_files:\n",
    "            df = pd.read_csv(file)\n",
    "            # Resample the data if needed\n",
    "            df.index = pd.to_timedelta(df[\"time\"], unit=\"seconds\")\n",
    "            df = df.drop(\"time\", axis=1)\n",
    "            df = df.resample(f\"{sample_period}S\").mean()\n",
    "            self.data.append(df.values)\n",
    "\n",
    "    def __len__(self):\n",
    "        return len(self.data)\n",
    "\n",
    "    def __getitem__(self, index):\n",
    "        \"\"\"Returns tuple of (imu, mocap) at index\"\"\"\n",
    "        item = self.data[index]\n",
    "        imu = item[:, 7:]  # IMU sensor data [accel, mag, gyro]\n",
    "        mocap = item[:, 0:7]  # Mocap data [pos]\n",
    "        return imu, mocap\n",
    "\n",
    "\n",
    "class SmartwatchAugmentRonin:\n",
    "    \"\"\"\n",
    "    Collate function to apply random augmentations to the data\n",
    "        - Randomly perturb the mocap positions\n",
    "        - Randomly flip sign of mocap quaternion\n",
    "        - Add random noise to IMU channels\n",
    "        - Random crop to the signal (if possible)\n",
    "        - Generate a velocity over the window of sequence data\n",
    "    \"\"\"\n",
    "    def __init__(self, position_noise=0.2, accel_eps=0.1, gyro_eps=0.1, mag_eps=0.1, max_input_samples=512, downsample_output_seq=1, augment=True):\n",
    "        \"\"\"\n",
    "        Parameters:\n",
    "        -----------\n",
    "        position_noise: float, limits on uniform distribution [-p, p] to add position offset to mocap\n",
    "        accel_eps: float, standard deviation on Gaussian noise added to accelerometer channels\n",
    "        gyro_eps: float, standard deviation on Gaussian noise added to gyroscope channels\n",
    "        mag_eps: float, standard deviation on Gaussian noise added to mangetometer channels\n",
    "        max_input_samples: int, maximum number of input samples\n",
    "        downsample_output_seq: int, factor to downsample output sequence\n",
    "        augment: bool, perform augmentations to data\n",
    "        \"\"\"\n",
    "        self.position_noise = position_noise\n",
    "        self.accel_eps = accel_eps\n",
    "        self.gyro_eps = gyro_eps\n",
    "        self.mag_eps = mag_eps\n",
    "        self.max_input_samples = max_input_samples\n",
    "        self.downsample_output_seq = downsample_output_seq\n",
    "        self.augment = augment\n",
    "\n",
    "    def _random_crop(self, imu, mocap):\n",
    "        \"\"\"\n",
    "        Apply a random crop of the signal of length self.max_input_samples to both inputs and labels, if able to\n",
    "        Due to targets being a shifted version of decoder inputs, we need to account for one extra timepoint (after downsampling)\n",
    "        \"\"\"\n",
    "        n, d = imu.shape\n",
    "        ds = self.downsample_output_seq\n",
    "        max_len = self.max_input_samples + ds\n",
    "        # max_len = self.max_input_samples\n",
    "        max_offset = n - max_len\n",
    "\n",
    "        if max_offset > 0:\n",
    "            offset = rng.choice(max_offset)\n",
    "            input_inds = slice(offset, offset + self.max_input_samples)\n",
    "            output_inds = slice(offset, offset + max_len)\n",
    "            imu, mocap = imu[input_inds, :], mocap[output_inds, :]\n",
    "        else:\n",
    "            cutoff = ds if n % ds == 0 else n % ds\n",
    "            input_inds = slice(0, n - cutoff)\n",
    "            imu = imu[input_inds, :]\n",
    "        if self.downsample_output_seq > 1:\n",
    "            mocap = mocap[::self.downsample_output_seq, :]\n",
    "        return imu, mocap\n",
    "\n",
    "    def __call__(self, data):\n",
    "        \"\"\"\n",
    "        Parameters:\n",
    "        -----------\n",
    "        data: list of tuple of (imu, mocap) of length batch_size\n",
    "            imu: np.ndarray, dimensions (n_samples, 9), signal data for IMU accel, gyro, and mag\n",
    "            mocap: np.ndarray, dimensions (n_samples, 7), position and quaternion data from mocap\n",
    "\n",
    "        Returns:\n",
    "        --------\n",
    "        collated_data: dict of tensords with keys [\"inputs\", \"targets\"]\n",
    "        \"\"\"\n",
    "        inputs = []\n",
    "        targets = []\n",
    "\n",
    "        \n",
    "        for (imu, mocap) in data:\n",
    "            imu, mocap = self._random_crop(imu, mocap[:, :3])\n",
    "\n",
    "            n_in, d_in = imu.shape\n",
    "            n_out, d_out = mocap.shape\n",
    "            assert np.ceil(n_in / self.downsample_output_seq) + 1 == n_out, f\"Downsamping failed, n_in={n_in}; n_out={n_out}\"\n",
    "            assert d_in == 9, f\"IMU data has dimensionality {d_in} instead of 9\"\n",
    "            assert d_out == 3, f\"Mocap data has dimensionality {d_out} instead of 73\"\n",
    "\n",
    "            if self.augment:\n",
    "                # Augment XYZ positions\n",
    "                offset = rng.uniform(-self.position_noise, self.position_noise, size=(1, 3))\n",
    "                mocap[:, 0:3] += offset\n",
    "                # # Augment quaternion sign\n",
    "                # sign = rng.choice([-1, 1])\n",
    "                # mocap[:, 4:] *= sign\n",
    "\n",
    "                accel_noise = rng.normal(loc=0, scale=self.accel_eps, size=(n_in, 3))\n",
    "                gyro_noise = rng.normal(loc=0, scale=self.gyro_eps, size=(n_in, 3))\n",
    "                mag_noise = rng.normal(loc=0, scale=self.mag_eps, size=(n_in, 3))\n",
    "\n",
    "                noise = np.hstack([accel_noise, gyro_noise, mag_noise])\n",
    "                imu += noise\n",
    "\n",
    "            # Ensure targets are one timestep shifted wrt inputs\n",
    "            inputs.append(torch.FloatTensor(imu))\n",
    "            # targets.append(torch.FloatTensor(mocap[1:, :]))\n",
    "            targets.append(torch.FloatTensor(mocap))\n",
    "\n",
    "        lengths = [len(item) for item in inputs]\n",
    "        inds = np.flip(np.argsort(lengths)).copy()  # PackedSequence expects lengths from longest to shortest\n",
    "        lengths = torch.LongTensor(lengths)[inds]\n",
    "\n",
    "        # # Sort by lengths\n",
    "        # encoder_inputs = [encoder_inputs[i] for i in inds]\n",
    "        # decoder_inputs = [decoder_inputs[i] for i in inds]\n",
    "        # targets = [targets[i] for i in inds]\n",
    "\n",
    "        # encoder_inputs = torch.nn.utils.rnn.pack_sequence(encoder_inputs)\n",
    "        # decoder_inputs = torch.nn.utils.rnn.pack_sequence(decoder_inputs)\n",
    "        # targets = torch.nn.utils.rnn.pack_sequence(targets)\n",
    "\n",
    "        inputs = torch.stack(inputs).permute(0, 2, 1)\n",
    "        targets = torch.stack(targets).permute(0, 2, 1)\n",
    "        # targets = targets[:, :, -1]\n",
    "\n",
    "        batches, channels, elements = targets.shape\n",
    "        vel_targets = (targets[:,:,-1] - targets[:,:,0]) / (0.02*elements)\n",
    "\n",
    "        collated_data = {\n",
    "            \"inputs\": inputs,\n",
    "            \"targets\": vel_targets,\n",
    "            \"pos_targets\": targets\n",
    "        }\n",
    "        return collated_data\n"
   ]
  },
  {
   "cell_type": "code",
   "execution_count": 3,
   "metadata": {},
   "outputs": [],
   "source": [
    "sequence_len = 32\n",
    "batch_size = 128\n",
    "\n",
    "collate_fn = SmartwatchAugmentRonin(max_input_samples=sequence_len)\n",
    "test_collate_fn = SmartwatchAugmentRonin(max_input_samples=sequence_len, augment=False)\n",
    "\n",
    "train_dataset = SmartwatchDataset(train_files, 0.04)\n",
    "train_loader = torch.utils.data.DataLoader(train_dataset, batch_size=batch_size, collate_fn=collate_fn, drop_last=True, shuffle=False)\n",
    "\n",
    "val_dataset = SmartwatchDataset(val_files, 0.04)\n",
    "val_loader = torch.utils.data.DataLoader(val_dataset, batch_size=batch_size, collate_fn=collate_fn, drop_last=True, shuffle=False)\n",
    "\n",
    "test_dataset = SmartwatchDataset(test_files, 0.04)\n",
    "test_loader = torch.utils.data.DataLoader(test_dataset, batch_size=batch_size, collate_fn=test_collate_fn, drop_last=True, shuffle=False)"
   ]
  },
  {
   "cell_type": "code",
   "execution_count": 4,
   "metadata": {},
   "outputs": [],
   "source": [
    "x, y, z = [], [], []\n",
    "for step, data in enumerate(train_loader):\n",
    "    targets = data['targets']\n",
    "    x.append(targets[:, 0].numpy())\n",
    "    y.append(targets[:, 1].numpy())\n",
    "    z.append(targets[:, 2].numpy())\n",
    "             \n",
    "x = np.concatenate(np.array(x), axis=0)\n",
    "y = np.concatenate(np.array(y), axis=0)\n",
    "z = np.concatenate(np.array(z), axis=0)"
   ]
  },
  {
   "cell_type": "code",
   "execution_count": 5,
   "metadata": {},
   "outputs": [
    {
     "data": {
      "text/plain": [
       "(1024,)"
      ]
     },
     "execution_count": 5,
     "metadata": {},
     "output_type": "execute_result"
    }
   ],
   "source": [
    "x.shape"
   ]
  },
  {
   "cell_type": "code",
   "execution_count": 6,
   "metadata": {},
   "outputs": [
    {
     "data": {
      "text/plain": [
       "(2.4096298, 2.4992726, 2.5737307)"
      ]
     },
     "execution_count": 6,
     "metadata": {},
     "output_type": "execute_result"
    }
   ],
   "source": [
    "np.std(x), np.std(y), np.std(z)"
   ]
  },
  {
   "cell_type": "code",
   "execution_count": 7,
   "metadata": {},
   "outputs": [
    {
     "data": {
      "text/plain": [
       "0.5111769"
      ]
     },
     "execution_count": 7,
     "metadata": {},
     "output_type": "execute_result"
    }
   ],
   "source": [
    "x[0]/np.std(x)"
   ]
  },
  {
   "cell_type": "code",
   "execution_count": null,
   "metadata": {},
   "outputs": [],
   "source": []
  }
 ],
 "metadata": {
  "kernelspec": {
   "display_name": "base",
   "language": "python",
   "name": "python3"
  },
  "language_info": {
   "codemirror_mode": {
    "name": "ipython",
    "version": 3
   },
   "file_extension": ".py",
   "mimetype": "text/x-python",
   "name": "python",
   "nbconvert_exporter": "python",
   "pygments_lexer": "ipython3",
   "version": "3.8.3"
  },
  "orig_nbformat": 4,
  "vscode": {
   "interpreter": {
    "hash": "19d1d53a962d236aa061289c2ac16dc8e6d9648c89fe79f459ae9a3493bc67b4"
   }
  }
 },
 "nbformat": 4,
 "nbformat_minor": 2
}
