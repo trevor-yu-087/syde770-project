{
 "cells": [
  {
   "cell_type": "code",
   "execution_count": 37,
   "metadata": {},
   "outputs": [],
   "source": [
    "import pandas as pd\n",
    "from pathlib import Path\n",
    "import os\n",
    "import glob\n",
    "import json\n",
    "import random\n",
    "import re"
   ]
  },
  {
   "attachments": {},
   "cell_type": "markdown",
   "metadata": {},
   "source": [
    "# Rename subjects 1-84"
   ]
  },
  {
   "cell_type": "code",
   "execution_count": 38,
   "metadata": {},
   "outputs": [],
   "source": [
    "path = Path(r'D:\\Jonathan\\3-Datasets\\syde770_processed_data\\subjects_2023-07-10')\n",
    "valid_files = list(path.glob(\"*/*.csv\"))"
   ]
  },
  {
   "cell_type": "code",
   "execution_count": 39,
   "metadata": {},
   "outputs": [],
   "source": [
    "old = [\n",
    "    'S02B',\n",
    "    'S11B',\n",
    "    'S06B',\n",
    "    'S03B',\n",
    "    'S07B',\n",
    "    'S01B',\n",
    "    'S12B',\n",
    "    'S30B',\n",
    "    'S04B',\n",
    "    'S29B',\n",
    "    'S32B',\n",
    "    'S16B',\n",
    "    'S08B',\n",
    "    'S73B',\n",
    "    'S82B',\n",
    "    'S70B',\n",
    "]\n",
    "\n",
    "new = [\n",
    "    'S43',\n",
    "    'S50',\n",
    "    'S51',\n",
    "    'S56',\n",
    "    'S57',\n",
    "    'S58',\n",
    "    'S59',\n",
    "    'S60',\n",
    "    'S61',\n",
    "    'S62',\n",
    "    'S63',\n",
    "    'S65',\n",
    "    'S66',\n",
    "    'S79',\n",
    "    'S83',\n",
    "    'S84',\n",
    "]"
   ]
  },
  {
   "cell_type": "code",
   "execution_count": 40,
   "metadata": {},
   "outputs": [
    {
     "data": {
      "text/plain": [
       "'S01_cal_mocap.csv'"
      ]
     },
     "execution_count": 40,
     "metadata": {},
     "output_type": "execute_result"
    }
   ],
   "source": [
    "valid_files[0].name.replace('S82', 'test')"
   ]
  },
  {
   "cell_type": "code",
   "execution_count": 41,
   "metadata": {},
   "outputs": [
    {
     "data": {
      "text/plain": [
       "('S01',\n",
       " 'S01_cal_mocap.csv',\n",
       " WindowsPath('D:/Jonathan/3-Datasets/syde770_processed_data/subjects_2023-07-10'))"
      ]
     },
     "execution_count": 41,
     "metadata": {},
     "output_type": "execute_result"
    }
   ],
   "source": [
    "valid_files[0].parts[5], valid_files[0].name, valid_files[0].parents[1]"
   ]
  },
  {
   "cell_type": "code",
   "execution_count": 42,
   "metadata": {},
   "outputs": [],
   "source": [
    "for path in valid_files:\n",
    "    # print(str(path.parts[3]))\n",
    "    for i, j in zip(old, new):\n",
    "        if str(path.parts[5]) == i:\n",
    "            # print(str(path.resolve()))\n",
    "            new_name = path.name.replace(i, j)\n",
    "            print(path.name, new_name)\n",
    "            new_path = path.parents[1].joinpath(j, new_name)\n",
    "            print(new_path)\n",
    "            new_path.parent.mkdir(exist_ok=True)\n",
    "            path.rename(new_path)"
   ]
  },
  {
   "attachments": {},
   "cell_type": "markdown",
   "metadata": {},
   "source": [
    "# Create data json"
   ]
  },
  {
   "attachments": {},
   "cell_type": "markdown",
   "metadata": {},
   "source": [
    "Look into KFold data splitting techniques"
   ]
  },
  {
   "cell_type": "code",
   "execution_count": 43,
   "metadata": {},
   "outputs": [],
   "source": [
    "path = Path(r'D:\\Jonathan\\3-Datasets\\syde770_processed_data\\subjects_2023-07-10')\n",
    "valid_files = list(path.glob(\"*/*_full.csv\"))\n",
    "num_subjects =  list(path.glob(\"S*\"))"
   ]
  },
  {
   "cell_type": "code",
   "execution_count": 44,
   "metadata": {},
   "outputs": [
    {
     "data": {
      "text/plain": [
       "100"
      ]
     },
     "execution_count": 44,
     "metadata": {},
     "output_type": "execute_result"
    }
   ],
   "source": [
    "len(num_subjects)"
   ]
  },
  {
   "cell_type": "code",
   "execution_count": 45,
   "metadata": {},
   "outputs": [],
   "source": [
    "start = 0\n",
    "step = 5\n",
    "val_subjects_list = []\n",
    "for i in range(start, len(num_subjects), step):\n",
    "     val_subjects_list.append(i)\n",
    "\n",
    "val_subjects = [f\"S{n}\" for n in val_subjects_list]"
   ]
  },
  {
   "cell_type": "code",
   "execution_count": 46,
   "metadata": {},
   "outputs": [
    {
     "data": {
      "text/plain": [
       "(20,\n",
       " ['S0',\n",
       "  'S5',\n",
       "  'S10',\n",
       "  'S15',\n",
       "  'S20',\n",
       "  'S25',\n",
       "  'S30',\n",
       "  'S35',\n",
       "  'S40',\n",
       "  'S45',\n",
       "  'S50',\n",
       "  'S55',\n",
       "  'S60',\n",
       "  'S65',\n",
       "  'S70',\n",
       "  'S75',\n",
       "  'S80',\n",
       "  'S85',\n",
       "  'S90',\n",
       "  'S95'])"
      ]
     },
     "execution_count": 46,
     "metadata": {},
     "output_type": "execute_result"
    }
   ],
   "source": [
    "len(val_subjects), val_subjects"
   ]
  },
  {
   "cell_type": "code",
   "execution_count": 47,
   "metadata": {},
   "outputs": [],
   "source": [
    "random.seed(1)\n",
    "num_test_subjects = 4\n",
    "test_subjects_list = []\n",
    "while len(test_subjects_list) < num_test_subjects:\n",
    "    subject = random.randint(0, len(num_subjects))\n",
    "    if subject not in val_subjects:\n",
    "        test_subjects_list.append(subject) \n",
    "\n",
    "test_subjects = [f\"S{n}\" for n in test_subjects_list]"
   ]
  },
  {
   "cell_type": "code",
   "execution_count": 48,
   "metadata": {},
   "outputs": [
    {
     "data": {
      "text/plain": [
       "['S17', 'S72', 'S97', 'S8']"
      ]
     },
     "execution_count": 48,
     "metadata": {},
     "output_type": "execute_result"
    }
   ],
   "source": [
    "test_subjects"
   ]
  },
  {
   "cell_type": "code",
   "execution_count": 49,
   "metadata": {},
   "outputs": [],
   "source": [
    "data = {\n",
    "    'train': [],\n",
    "    'val': [],\n",
    "    'test': [],\n",
    "}"
   ]
  },
  {
   "cell_type": "code",
   "execution_count": 50,
   "metadata": {},
   "outputs": [
    {
     "data": {
      "text/plain": [
       "'S01'"
      ]
     },
     "execution_count": 50,
     "metadata": {},
     "output_type": "execute_result"
    }
   ],
   "source": [
    "str(valid_files[0].parts[5])"
   ]
  },
  {
   "cell_type": "code",
   "execution_count": 51,
   "metadata": {},
   "outputs": [],
   "source": [
    "for file in valid_files:\n",
    "    if str(file.parts[5]) in val_subjects:\n",
    "        data['val'].append(str(file.resolve()))\n",
    "    if str(file.parts[5]) in test_subjects:\n",
    "        data['test'].append(str(file.resolve()))\n",
    "    else:\n",
    "        data['train'].append(str(file.resolve()))"
   ]
  },
  {
   "cell_type": "code",
   "execution_count": 52,
   "metadata": {},
   "outputs": [
    {
     "data": {
      "text/plain": [
       "'D:\\\\Jonathan\\\\3-Datasets\\\\syde770_processed_data\\\\subjects_2023-07-10\\\\data.json'"
      ]
     },
     "execution_count": 52,
     "metadata": {},
     "output_type": "execute_result"
    }
   ],
   "source": [
    "str(path.joinpath('data.json').resolve())"
   ]
  },
  {
   "cell_type": "code",
   "execution_count": 53,
   "metadata": {},
   "outputs": [],
   "source": [
    "with path.joinpath('data.json').open('w', encoding=\"UTF-8\") as f:\n",
    "    json.dump(data, f)"
   ]
  },
  {
   "cell_type": "markdown",
   "metadata": {},
   "source": [
    "# Test Loading JSON"
   ]
  },
  {
   "cell_type": "code",
   "execution_count": 54,
   "metadata": {},
   "outputs": [],
   "source": [
    "path =Path(r'D:\\Jonathan\\3-Datasets\\syde770_processed_data\\subjects_2023-07-10\\data.json')\n",
    "\n",
    "with path.open('r') as f:\n",
    "    data = json.load(f)['train']"
   ]
  }
 ],
 "metadata": {
  "kernelspec": {
   "display_name": "iner_odom",
   "language": "python",
   "name": "python3"
  },
  "language_info": {
   "codemirror_mode": {
    "name": "ipython",
    "version": 3
   },
   "file_extension": ".py",
   "mimetype": "text/x-python",
   "name": "python",
   "nbconvert_exporter": "python",
   "pygments_lexer": "ipython3",
   "version": "3.10.11"
  },
  "orig_nbformat": 4,
  "vscode": {
   "interpreter": {
    "hash": "f5691056a3d284fb5b97d6455ad59728bfba0eeb1a82d97f8565065b859b1690"
   }
  }
 },
 "nbformat": 4,
 "nbformat_minor": 2
}
