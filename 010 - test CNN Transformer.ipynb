{
 "cells": [
  {
   "cell_type": "code",
   "execution_count": 1,
   "metadata": {},
   "outputs": [],
   "source": [
    "import torch\n",
    "import pandas as pd\n",
    "import numpy as np\n",
    "\n",
    "rng = np.random.default_rng()"
   ]
  },
  {
   "attachments": {},
   "cell_type": "markdown",
   "metadata": {},
   "source": [
    "# Testing CNN Tranformer Model Class"
   ]
  },
  {
   "cell_type": "code",
   "execution_count": 2,
   "metadata": {},
   "outputs": [
    {
     "name": "stdout",
     "output_type": "stream",
     "text": [
      "env: CUDA_VISIBLE_DEVICES=1\n"
     ]
    }
   ],
   "source": [
    "import torch\n",
    "import torch.nn as nn\n",
    "import torch.optim as optim\n",
    "from pathlib import Path\n",
    "import os\n",
    "import glob\n",
    "import time\n",
    "from datetime import datetime\n",
    "import matplotlib.pyplot as plt\n",
    "import math\n",
    "import random\n",
    "\n",
    "import model.hyperparameters as hp\n",
    "from model.Transformer import TransformerModel\n",
    "from utils.train import Transformer_train_fn\n",
    "from utils.dataset import (\n",
    "    SmartwatchDataset, \n",
    "    SmartwatchAugmentTransformer, \n",
    "    get_file_lists\n",
    ")\n",
    "from utils.utils import test_Transformer\n",
    "\n",
    "%env CUDA_VISIBLE_DEVICES=1"
   ]
  },
  {
   "attachments": {},
   "cell_type": "markdown",
   "metadata": {},
   "source": [
    "Try to train the model..."
   ]
  },
  {
   "cell_type": "code",
   "execution_count": 3,
   "metadata": {},
   "outputs": [
    {
     "name": "stderr",
     "output_type": "stream",
     "text": [
      "2023-04-17 02:55:10.494476: W tensorflow/compiler/xla/stream_executor/platform/default/dso_loader.cc:64] Could not load dynamic library 'libnvinfer.so.7'; dlerror: libnvinfer.so.7: cannot open shared object file: No such file or directory; LD_LIBRARY_PATH: /usr/local/nvidia/lib:/usr/local/nvidia/lib64\n",
      "2023-04-17 02:55:10.494605: W tensorflow/compiler/xla/stream_executor/platform/default/dso_loader.cc:64] Could not load dynamic library 'libnvinfer_plugin.so.7'; dlerror: libnvinfer_plugin.so.7: cannot open shared object file: No such file or directory; LD_LIBRARY_PATH: /usr/local/nvidia/lib:/usr/local/nvidia/lib64\n",
      "2023-04-17 02:55:10.494618: W tensorflow/compiler/tf2tensorrt/utils/py_utils.cc:38] TF-TRT Warning: Cannot dlopen some TensorRT libraries. If you would like to use Nvidia GPU with TensorRT, please make sure the missing libraries mentioned above are installed properly.\n"
     ]
    }
   ],
   "source": [
    "\n",
    "# Paths\n",
    "SAVE_PATH = Path(f'outputs/{datetime.now().strftime(\"%d-%m-%Y_%H%M%S\")}')\n",
    "\n",
    "TRAIN = True\n",
    "\n",
    "if TRAIN == True:\n",
    "    from torch.utils.tensorboard import SummaryWriter\n",
    "    writer = SummaryWriter(log_dir=f'{SAVE_PATH}/tensorboard')\n",
    "    TEST_PATH = SAVE_PATH\n",
    "else:\n",
    "    TEST_PATH = Path(input('Enter path to folder containing weights: '))\n"
   ]
  },
  {
   "cell_type": "code",
   "execution_count": 4,
   "metadata": {},
   "outputs": [],
   "source": [
    "# Get .csv files\n",
    "train_files, val_files, test_files = get_file_lists(\n",
    "    val_sub_list=['05', 10, 15, 20, 25, 30],\n",
    "    test_sub_list=[35],\n",
    ")\n",
    "\n",
    "# Get dataloaders\n",
    "train_dataset = SmartwatchDataset(train_files)\n",
    "train_loader = torch.utils.data.DataLoader(train_dataset, batch_size=hp.TRANSFORMER_BATCH_SIZE, collate_fn=SmartwatchAugmentTransformer(max_input_samples=1024, downsample_output_seq=2), drop_last=True, shuffle=True)\n",
    "\n",
    "val_dataset = SmartwatchDataset(val_files)\n",
    "val_loader = torch.utils.data.DataLoader(val_dataset, batch_size=hp.TRANSFORMER_BATCH_SIZE, collate_fn=SmartwatchAugmentTransformer(max_input_samples=1024, downsample_output_seq=2), drop_last=True, shuffle=True)\n",
    "\n",
    "test_dataset = SmartwatchDataset(test_files)\n",
    "test_loader = torch.utils.data.DataLoader(test_dataset, batch_size=hp.TRANSFORMER_BATCH_SIZE, collate_fn=SmartwatchAugmentTransformer(max_input_samples=1024, downsample_output_seq=2), drop_last=True, shuffle=False)\n",
    "\n"
   ]
  },
  {
   "cell_type": "code",
   "execution_count": 5,
   "metadata": {},
   "outputs": [],
   "source": [
    "hidden_size = 128\n",
    "dropout_p = 0.1\n",
    "kernel_size = 7\n",
    "num_layers = 2\n",
    "num_epochs = 5"
   ]
  },
  {
   "cell_type": "code",
   "execution_count": 6,
   "metadata": {},
   "outputs": [],
   "source": [
    "# Initialize transformer\n",
    "transformer_model = TransformerModel(\n",
    "    input_size=9,\n",
    "    d_model=hidden_size,\n",
    "    dropout=dropout_p,\n",
    "    n_heads=int(hidden_size/4),\n",
    "    stride=2,\n",
    "    kernel_size=kernel_size,\n",
    "    seq_len=1024,\n",
    "    downsample=True,\n",
    "    output_size=7,\n",
    "    num_encoder_layers=num_layers,\n",
    "    num_decoder_layers=num_layers\n",
    ").to(hp.DEVICE)\n",
    "\n",
    "# Initialize loss functions\n",
    "loss_fn = nn.MSELoss()\n",
    "metric_loss_fn = nn.L1Loss()\n",
    "\n",
    "# Initialize optimizers\n",
    "transformer_optimizer = optim.Adam(transformer_model.parameters(), lr=hp.TRANSFORMER_LEARNING_RATE)\n",
    "\n"
   ]
  },
  {
   "cell_type": "code",
   "execution_count": 7,
   "metadata": {},
   "outputs": [
    {
     "name": "stdout",
     "output_type": "stream",
     "text": [
      "===== Epoch: 0 =====\n",
      "Epoch 0 MSE Loss: 0.03555313187340895\n",
      "Epoch 0 MAE: 0.1446295827627182\n",
      "===== Epoch: 1 =====\n",
      "Epoch 1 MSE Loss: 0.014560333918780088\n",
      "Epoch 1 MAE: 0.0920134112238884\n",
      "===== Epoch: 2 =====\n",
      "Epoch 2 MSE Loss: 0.008992912674633166\n",
      "Epoch 2 MAE: 0.07104372978210449\n",
      "===== Epoch: 3 =====\n",
      "Epoch 3 MSE Loss: 0.005779503029771149\n",
      "Epoch 3 MAE: 0.05574097856879234\n",
      "===== Epoch: 4 =====\n",
      "Epoch 4 MSE Loss: 0.004172820287446181\n",
      "Epoch 4 MAE: 0.04744591563940048\n"
     ]
    }
   ],
   "source": [
    "val_loss_values = Transformer_train_fn(\n",
    "        train_loader,\n",
    "        val_loader,\n",
    "        transformer_model,\n",
    "        transformer_optimizer,\n",
    "        loss_fn,\n",
    "        metric_loss_fn,\n",
    "        num_epochs,\n",
    "        hp.DEVICE,\n",
    "        SAVE_PATH,\n",
    "        writer,\n",
    "        hp.TRANSFORMER_TEACHER_FORCE_RATIO,\n",
    "        checkpoint=None,\n",
    "        batch_size=hp.TRANSFORMER_BATCH_SIZE\n",
    "    )\n",
    "\n"
   ]
  },
  {
   "cell_type": "code",
   "execution_count": 8,
   "metadata": {},
   "outputs": [
    {
     "ename": "ValueError",
     "evalue": "x and y must have same first dimension, but have shapes (512,) and (1024,)",
     "output_type": "error",
     "traceback": [
      "\u001b[0;31m---------------------------------------------------------------------------\u001b[0m",
      "\u001b[0;31mValueError\u001b[0m                                Traceback (most recent call last)",
      "Cell \u001b[0;32mIn[8], line 1\u001b[0m\n\u001b[0;32m----> 1\u001b[0m test_Transformer(\n\u001b[1;32m      2\u001b[0m     test_loader,\n\u001b[1;32m      3\u001b[0m     transformer_model,\n\u001b[1;32m      4\u001b[0m     loss_fn,\n\u001b[1;32m      5\u001b[0m     metric_loss_fn,\n\u001b[1;32m      6\u001b[0m     SAVE_PATH,\n\u001b[1;32m      7\u001b[0m     hp\u001b[39m.\u001b[39;49mDEVICE,\n\u001b[1;32m      8\u001b[0m )\n",
      "File \u001b[0;32m~/tia/syde770-project/utils/utils.py:160\u001b[0m, in \u001b[0;36mtest_Transformer\u001b[0;34m(test_loader, transformer_model, loss_fn, metric_loss_fn, path, device)\u001b[0m\n\u001b[1;32m    158\u001b[0m outputs\u001b[39m.\u001b[39mappend(test_output\u001b[39m.\u001b[39mnumpy(force\u001b[39m=\u001b[39m\u001b[39mTrue\u001b[39;00m))\n\u001b[1;32m    159\u001b[0m \u001b[39mif\u001b[39;00m test_step \u001b[39m<\u001b[39m \u001b[39m1\u001b[39m:\n\u001b[0;32m--> 160\u001b[0m     plot(test_output\u001b[39m.\u001b[39;49mnumpy(force\u001b[39m=\u001b[39;49m\u001b[39mTrue\u001b[39;49;00m), test_target\u001b[39m.\u001b[39;49mnumpy(force\u001b[39m=\u001b[39;49m\u001b[39mTrue\u001b[39;49;00m), test_step)\n\u001b[1;32m    162\u001b[0m test_loss \u001b[39m=\u001b[39m loss_fn(test_output, test_target)\n\u001b[1;32m    164\u001b[0m \u001b[39m# test loss\u001b[39;00m\n",
      "File \u001b[0;32m~/tia/syde770-project/utils/utils.py:70\u001b[0m, in \u001b[0;36mplot\u001b[0;34m(outputs, targets, step)\u001b[0m\n\u001b[1;32m     68\u001b[0m t \u001b[39m=\u001b[39m np\u001b[39m.\u001b[39marange(\u001b[39m512\u001b[39m)\n\u001b[1;32m     69\u001b[0m \u001b[39mfor\u001b[39;00m j \u001b[39min\u001b[39;00m \u001b[39mrange\u001b[39m(\u001b[39m3\u001b[39m):\n\u001b[0;32m---> 70\u001b[0m     axs[\u001b[39m0\u001b[39;49m]\u001b[39m.\u001b[39;49mplot(t, outputs[i, :, j], label\u001b[39m=\u001b[39;49mlabels[j])\n\u001b[1;32m     71\u001b[0m     axs[\u001b[39m0\u001b[39m]\u001b[39m.\u001b[39mset_title(\u001b[39mf\u001b[39m\u001b[39m'\u001b[39m\u001b[39mTest Output: Step \u001b[39m\u001b[39m{\u001b[39;00mstep\u001b[39m}\u001b[39;00m\u001b[39m Batch \u001b[39m\u001b[39m{\u001b[39;00mi\u001b[39m}\u001b[39;00m\u001b[39m'\u001b[39m)\n\u001b[1;32m     72\u001b[0m     axs[\u001b[39m1\u001b[39m]\u001b[39m.\u001b[39mplot(t, targets[i, :, j], label\u001b[39m=\u001b[39mlabels[j])\n",
      "File \u001b[0;32m/usr/local/lib/python3.8/dist-packages/matplotlib/axes/_axes.py:1688\u001b[0m, in \u001b[0;36mAxes.plot\u001b[0;34m(self, scalex, scaley, data, *args, **kwargs)\u001b[0m\n\u001b[1;32m   1445\u001b[0m \u001b[39m\u001b[39m\u001b[39m\"\"\"\u001b[39;00m\n\u001b[1;32m   1446\u001b[0m \u001b[39mPlot y versus x as lines and/or markers.\u001b[39;00m\n\u001b[1;32m   1447\u001b[0m \n\u001b[0;32m   (...)\u001b[0m\n\u001b[1;32m   1685\u001b[0m \u001b[39m(``'green'``) or hex strings (``'#008000'``).\u001b[39;00m\n\u001b[1;32m   1686\u001b[0m \u001b[39m\"\"\"\u001b[39;00m\n\u001b[1;32m   1687\u001b[0m kwargs \u001b[39m=\u001b[39m cbook\u001b[39m.\u001b[39mnormalize_kwargs(kwargs, mlines\u001b[39m.\u001b[39mLine2D)\n\u001b[0;32m-> 1688\u001b[0m lines \u001b[39m=\u001b[39m [\u001b[39m*\u001b[39m\u001b[39mself\u001b[39m\u001b[39m.\u001b[39m_get_lines(\u001b[39m*\u001b[39margs, data\u001b[39m=\u001b[39mdata, \u001b[39m*\u001b[39m\u001b[39m*\u001b[39mkwargs)]\n\u001b[1;32m   1689\u001b[0m \u001b[39mfor\u001b[39;00m line \u001b[39min\u001b[39;00m lines:\n\u001b[1;32m   1690\u001b[0m     \u001b[39mself\u001b[39m\u001b[39m.\u001b[39madd_line(line)\n",
      "File \u001b[0;32m/usr/local/lib/python3.8/dist-packages/matplotlib/axes/_base.py:311\u001b[0m, in \u001b[0;36m_process_plot_var_args.__call__\u001b[0;34m(self, data, *args, **kwargs)\u001b[0m\n\u001b[1;32m    309\u001b[0m     this \u001b[39m+\u001b[39m\u001b[39m=\u001b[39m args[\u001b[39m0\u001b[39m],\n\u001b[1;32m    310\u001b[0m     args \u001b[39m=\u001b[39m args[\u001b[39m1\u001b[39m:]\n\u001b[0;32m--> 311\u001b[0m \u001b[39myield from\u001b[39;00m \u001b[39mself\u001b[39;49m\u001b[39m.\u001b[39;49m_plot_args(\n\u001b[1;32m    312\u001b[0m     this, kwargs, ambiguous_fmt_datakey\u001b[39m=\u001b[39;49mambiguous_fmt_datakey)\n",
      "File \u001b[0;32m/usr/local/lib/python3.8/dist-packages/matplotlib/axes/_base.py:504\u001b[0m, in \u001b[0;36m_process_plot_var_args._plot_args\u001b[0;34m(self, tup, kwargs, return_kwargs, ambiguous_fmt_datakey)\u001b[0m\n\u001b[1;32m    501\u001b[0m     \u001b[39mself\u001b[39m\u001b[39m.\u001b[39maxes\u001b[39m.\u001b[39myaxis\u001b[39m.\u001b[39mupdate_units(y)\n\u001b[1;32m    503\u001b[0m \u001b[39mif\u001b[39;00m x\u001b[39m.\u001b[39mshape[\u001b[39m0\u001b[39m] \u001b[39m!=\u001b[39m y\u001b[39m.\u001b[39mshape[\u001b[39m0\u001b[39m]:\n\u001b[0;32m--> 504\u001b[0m     \u001b[39mraise\u001b[39;00m \u001b[39mValueError\u001b[39;00m(\u001b[39mf\u001b[39m\u001b[39m\"\u001b[39m\u001b[39mx and y must have same first dimension, but \u001b[39m\u001b[39m\"\u001b[39m\n\u001b[1;32m    505\u001b[0m                      \u001b[39mf\u001b[39m\u001b[39m\"\u001b[39m\u001b[39mhave shapes \u001b[39m\u001b[39m{\u001b[39;00mx\u001b[39m.\u001b[39mshape\u001b[39m}\u001b[39;00m\u001b[39m and \u001b[39m\u001b[39m{\u001b[39;00my\u001b[39m.\u001b[39mshape\u001b[39m}\u001b[39;00m\u001b[39m\"\u001b[39m)\n\u001b[1;32m    506\u001b[0m \u001b[39mif\u001b[39;00m x\u001b[39m.\u001b[39mndim \u001b[39m>\u001b[39m \u001b[39m2\u001b[39m \u001b[39mor\u001b[39;00m y\u001b[39m.\u001b[39mndim \u001b[39m>\u001b[39m \u001b[39m2\u001b[39m:\n\u001b[1;32m    507\u001b[0m     \u001b[39mraise\u001b[39;00m \u001b[39mValueError\u001b[39;00m(\u001b[39mf\u001b[39m\u001b[39m\"\u001b[39m\u001b[39mx and y can be no greater than 2D, but have \u001b[39m\u001b[39m\"\u001b[39m\n\u001b[1;32m    508\u001b[0m                      \u001b[39mf\u001b[39m\u001b[39m\"\u001b[39m\u001b[39mshapes \u001b[39m\u001b[39m{\u001b[39;00mx\u001b[39m.\u001b[39mshape\u001b[39m}\u001b[39;00m\u001b[39m and \u001b[39m\u001b[39m{\u001b[39;00my\u001b[39m.\u001b[39mshape\u001b[39m}\u001b[39;00m\u001b[39m\"\u001b[39m)\n",
      "\u001b[0;31mValueError\u001b[0m: x and y must have same first dimension, but have shapes (512,) and (1024,)"
     ]
    },
    {
     "data": {
      "image/png": "[encoded data removed]",
      "text/plain": [
       "<Figure size 1000x1200 with 4 Axes>"
      ]
     },
     "metadata": {},
     "output_type": "display_data"
    }
   ],
   "source": [
    "test_Transformer(\n",
    "    test_loader,\n",
    "    transformer_model,\n",
    "    loss_fn,\n",
    "    metric_loss_fn,\n",
    "    SAVE_PATH,\n",
    "    hp.DEVICE,\n",
    ")\n"
   ]
  },
  {
   "cell_type": "code",
   "execution_count": null,
   "metadata": {},
   "outputs": [
    {
     "name": "stdout",
     "output_type": "stream",
     "text": [
      "1160007\n",
      "1160007\n"
     ]
    }
   ],
   "source": [
    "pytorch_total_params = sum(p.numel() for p in transformer_model.parameters())\n",
    "print(pytorch_total_params)\n",
    "pytorch_trainable_params = sum(p.numel() for p in transformer_model.parameters() if p.requires_grad)\n",
    "print(pytorch_trainable_params)"
   ]
  }
 ],
 "metadata": {
  "kernelspec": {
   "display_name": "Python 3",
   "language": "python",
   "name": "python3"
  },
  "language_info": {
   "codemirror_mode": {
    "name": "ipython",
    "version": 3
   },
   "file_extension": ".py",
   "mimetype": "text/x-python",
   "name": "python",
   "nbconvert_exporter": "python",
   "pygments_lexer": "ipython3",
   "version": "3.8.10"
  },
  "orig_nbformat": 4,
  "vscode": {
   "interpreter": {
    "hash": "916dbcbb3f70747c44a77c7bcd40155683ae19c65e1c03b4aa3499c5328201f1"
   }
  }
 },
 "nbformat": 4,
 "nbformat_minor": 2
}
