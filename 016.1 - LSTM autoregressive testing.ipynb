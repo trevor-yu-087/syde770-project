{
 "cells": [
  {
   "cell_type": "code",
   "execution_count": 1,
   "metadata": {},
   "outputs": [],
   "source": [
    "from utils.utils import load_checkpoint, plot\n",
    "from utils.dataset import *\n",
    "import torch\n",
    "import numpy as np\n",
    "import matplotlib.pyplot as plt"
   ]
  },
  {
   "cell_type": "code",
   "execution_count": 5,
   "metadata": {},
   "outputs": [],
   "source": [
    "from pathlib import Path\n",
    "model_path = Path('/root/trevor/syde770-project/best_models/lstm/17-04-2023_231059/')"
   ]
  },
  {
   "cell_type": "code",
   "execution_count": 101,
   "metadata": {},
   "outputs": [],
   "source": [
    "valid_files_path = Path(\"/root/data/smartwatch/subjects_2023-07-05/\")\n",
    "train_files, val_files, test_files = get_file_lists(\n",
    "    val_sub_list=['05', 10, 15, 20, 25, 30],\n",
    "    test_sub_list=[10], # \n",
    "    valid_files_path=valid_files_path\n",
    ")\n",
    "\n",
    "BATCH_SIZE = 4\n",
    "test_dataset = SmartwatchDataset(test_files)\n",
    "test_loader = torch.utils.data.DataLoader(test_dataset, batch_size=4, collate_fn=SmartwatchAugmentLstm(), drop_last=True, shuffle=False)"
   ]
  },
  {
   "cell_type": "code",
   "execution_count": 103,
   "metadata": {},
   "outputs": [
    {
     "data": {
      "text/plain": [
       "(18, 4)"
      ]
     },
     "execution_count": 103,
     "metadata": {},
     "output_type": "execute_result"
    }
   ],
   "source": [
    "len(test_dataset), len(test_loader)"
   ]
  },
  {
   "cell_type": "code",
   "execution_count": 29,
   "metadata": {},
   "outputs": [
    {
     "name": "stderr",
     "output_type": "stream",
     "text": [
      "/usr/local/lib/python3.8/dist-packages/torch/nn/modules/rnn.py:71: UserWarning: dropout option adds dropout after all but last recurrent layer, so non-zero dropout expects num_layers greater than 1, but got dropout=0.1 and num_layers=1\n",
      "  warnings.warn(\"dropout option adds dropout after all but last \"\n"
     ]
    }
   ],
   "source": [
    "from model.seq2seq_LSTM import Encoder, Decoder\n",
    "\n",
    "encoder_model = Encoder(\n",
    "    input_size=9,\n",
    "    hidden_size=32,\n",
    "    num_layers=1,\n",
    "    dropout_p=0.1,\n",
    "    channels=[9, 9],\n",
    "    stride=2,\n",
    "    kernel_size=32,\n",
    "    downsample=True,\n",
    "    seq_len=1024\n",
    ").to(\"cpu\")\n",
    "decoder_model = Decoder(\n",
    "    input_size=7,\n",
    "    hidden_size=32,\n",
    "    output_size=7,\n",
    "    num_layers=1,\n",
    "    dropout_p=0.1,\n",
    ").to(\"cpu\")"
   ]
  },
  {
   "cell_type": "code",
   "execution_count": 111,
   "metadata": {},
   "outputs": [
    {
     "data": {
      "text/plain": [
       "dict_keys(['encoder_inputs', 'decoder_inputs', 'targets'])"
      ]
     },
     "execution_count": 111,
     "metadata": {},
     "output_type": "execute_result"
    }
   ],
   "source": [
    "data = next(iter(test_loader))\n",
    "data.keys()"
   ]
  },
  {
   "cell_type": "code",
   "execution_count": 113,
   "metadata": {},
   "outputs": [],
   "source": [
    "train_target = data[\"targets\"]\n",
    "device = \"cpu\"\n",
    "\n",
    "# Setup\n",
    "decoder_output = torch.zeros(BATCH_SIZE, 512, 7).to(device)\n",
    "encoder_inputs = data[\"encoder_inputs\"]\n",
    "decoder_inputs = data[\"decoder_inputs\"]\n",
    "decoder_inputs, seq_lens = torch.nn.utils.rnn.pad_packed_sequence(decoder_inputs, batch_first=True)"
   ]
  },
  {
   "cell_type": "code",
   "execution_count": 129,
   "metadata": {},
   "outputs": [],
   "source": [
    "with torch.no_grad():\n",
    "    encoder_hidden, encoder_cell = encoder_model(encoder_inputs)\n",
    "    for b in range(BATCH_SIZE):\n",
    "        # Run first step\n",
    "        decoder_seed = decoder_inputs[b, 0, :].reshape((1, 7))\n",
    "        initial_hidden = encoder_hidden[:, b, :]  # Shape (1, batch, hidden)??\n",
    "        initial_cell = encoder_cell[:, b, :]\n",
    "        output, (hidden, cell) = decoder_model.LSTM(decoder_seed, (initial_hidden, initial_cell))\n",
    "        output = decoder_model.fc(output)\n",
    "        decoder_output[b, 0, :] = output\n",
    "\n",
    "        for i in range(1, seq_lens[b]):\n",
    "            output, (hidden, cell) = decoder_model.LSTM(output, (hidden, cell))\n",
    "            output = decoder_model.fc(output)\n",
    "            decoder_output[b, i, :] = output"
   ]
  },
  {
   "cell_type": "code",
   "execution_count": 131,
   "metadata": {},
   "outputs": [
    {
     "data": {
      "text/plain": [
       "torch.Size([4, 512, 7])"
      ]
     },
     "execution_count": 131,
     "metadata": {},
     "output_type": "execute_result"
    }
   ],
   "source": [
    "decoder_output.shape"
   ]
  },
  {
   "cell_type": "code",
   "execution_count": 133,
   "metadata": {},
   "outputs": [
    {
     "data": {
      "image/png": "[encoded data removed]",
      "text/plain": [
       "<Figure size 640x480 with 1 Axes>"
      ]
     },
     "metadata": {},
     "output_type": "display_data"
    }
   ],
   "source": [
    "for b in range(BATCH_SIZE):\n",
    "    plt.plot(decoder_output[b, :, :])\n",
    "plt.show()"
   ]
  }
 ],
 "metadata": {
  "kernelspec": {
   "display_name": "Python 3",
   "language": "python",
   "name": "python3"
  },
  "language_info": {
   "codemirror_mode": {
    "name": "ipython",
    "version": 3
   },
   "file_extension": ".py",
   "mimetype": "text/x-python",
   "name": "python",
   "nbconvert_exporter": "python",
   "pygments_lexer": "ipython3",
   "version": "3.8.10"
  },
  "orig_nbformat": 4
 },
 "nbformat": 4,
 "nbformat_minor": 2
}
